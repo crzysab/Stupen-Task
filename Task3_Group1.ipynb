{
  "nbformat": 4,
  "nbformat_minor": 0,
  "metadata": {
    "colab": {
      "name": "Task3_Group1.ipynb",
      "provenance": [],
      "collapsed_sections": [],
      "authorship_tag": "ABX9TyMx+eZ/9akKBcHDVEJTwxpM",
      "include_colab_link": true
    },
    "kernelspec": {
      "name": "python3",
      "display_name": "Python 3"
    },
    "language_info": {
      "name": "python"
    }
  },
  "cells": [
    {
      "cell_type": "markdown",
      "metadata": {
        "id": "view-in-github",
        "colab_type": "text"
      },
      "source": [
        "<a href=\"https://colab.research.google.com/github/crzysab/Stupen-Task/blob/main/Task3_Group1.ipynb\" target=\"_parent\"><img src=\"https://colab.research.google.com/assets/colab-badge.svg\" alt=\"Open In Colab\"/></a>"
      ]
    },
    {
      "cell_type": "markdown",
      "source": [
        "## Data Pre-Processing"
      ],
      "metadata": {
        "id": "8pVpBW6qZbQl"
      }
    },
    {
      "cell_type": "markdown",
      "source": [
        "### Load Data"
      ],
      "metadata": {
        "id": "V4nrFz7lZfGi"
      }
    },
    {
      "cell_type": "code",
      "source": [
        "import pandas as pd\n",
        "\n",
        "df = pd.read_csv('userprofile.csv')\n",
        "df.head()"
      ],
      "metadata": {
        "colab": {
          "base_uri": "https://localhost:8080/",
          "height": 322
        },
        "id": "mbLuWH-0ZeGo",
        "outputId": "5d6ab4e9-bd5b-4192-8ca1-ca699f2203c7"
      },
      "execution_count": 1,
      "outputs": [
        {
          "output_type": "execute_result",
          "data": {
            "text/plain": [
              "  userID   latitude   longitude smoker     drink_level dress_preference  \\\n",
              "0  U1001  22.139997 -100.978803  false      abstemious         informal   \n",
              "1  U1002  22.150087 -100.983325  false      abstemious         informal   \n",
              "2  U1003  22.119847 -100.946527  false  social drinker           formal   \n",
              "3  U1004  18.867000  -99.183000  false      abstemious         informal   \n",
              "4  U1005  22.183477 -100.959891  false      abstemious    no preference   \n",
              "\n",
              "  ambience transport marital_status        hijos  birth_year    interest  \\\n",
              "0   family   on foot         single  independent        1989     variety   \n",
              "1   family    public         single  independent        1990  technology   \n",
              "2   family    public         single  independent        1989        none   \n",
              "3   family    public         single  independent        1940     variety   \n",
              "4   family    public         single  independent        1992        none   \n",
              "\n",
              "           personality  religion      activity  color  weight  budget  height  \n",
              "0    thrifty-protector      none       student  black      69  medium    1.77  \n",
              "1  hunter-ostentatious  Catholic       student    red      40     low    1.87  \n",
              "2          hard-worker  Catholic       student   blue      60     low    1.69  \n",
              "3          hard-worker      none  professional  green      44  medium    1.53  \n",
              "4    thrifty-protector  Catholic       student  black      65  medium    1.69  "
            ],
            "text/html": [
              "\n",
              "  <div id=\"df-59c5b5a3-a9a1-4d1f-9470-a49ba90b344e\">\n",
              "    <div class=\"colab-df-container\">\n",
              "      <div>\n",
              "<style scoped>\n",
              "    .dataframe tbody tr th:only-of-type {\n",
              "        vertical-align: middle;\n",
              "    }\n",
              "\n",
              "    .dataframe tbody tr th {\n",
              "        vertical-align: top;\n",
              "    }\n",
              "\n",
              "    .dataframe thead th {\n",
              "        text-align: right;\n",
              "    }\n",
              "</style>\n",
              "<table border=\"1\" class=\"dataframe\">\n",
              "  <thead>\n",
              "    <tr style=\"text-align: right;\">\n",
              "      <th></th>\n",
              "      <th>userID</th>\n",
              "      <th>latitude</th>\n",
              "      <th>longitude</th>\n",
              "      <th>smoker</th>\n",
              "      <th>drink_level</th>\n",
              "      <th>dress_preference</th>\n",
              "      <th>ambience</th>\n",
              "      <th>transport</th>\n",
              "      <th>marital_status</th>\n",
              "      <th>hijos</th>\n",
              "      <th>birth_year</th>\n",
              "      <th>interest</th>\n",
              "      <th>personality</th>\n",
              "      <th>religion</th>\n",
              "      <th>activity</th>\n",
              "      <th>color</th>\n",
              "      <th>weight</th>\n",
              "      <th>budget</th>\n",
              "      <th>height</th>\n",
              "    </tr>\n",
              "  </thead>\n",
              "  <tbody>\n",
              "    <tr>\n",
              "      <th>0</th>\n",
              "      <td>U1001</td>\n",
              "      <td>22.139997</td>\n",
              "      <td>-100.978803</td>\n",
              "      <td>false</td>\n",
              "      <td>abstemious</td>\n",
              "      <td>informal</td>\n",
              "      <td>family</td>\n",
              "      <td>on foot</td>\n",
              "      <td>single</td>\n",
              "      <td>independent</td>\n",
              "      <td>1989</td>\n",
              "      <td>variety</td>\n",
              "      <td>thrifty-protector</td>\n",
              "      <td>none</td>\n",
              "      <td>student</td>\n",
              "      <td>black</td>\n",
              "      <td>69</td>\n",
              "      <td>medium</td>\n",
              "      <td>1.77</td>\n",
              "    </tr>\n",
              "    <tr>\n",
              "      <th>1</th>\n",
              "      <td>U1002</td>\n",
              "      <td>22.150087</td>\n",
              "      <td>-100.983325</td>\n",
              "      <td>false</td>\n",
              "      <td>abstemious</td>\n",
              "      <td>informal</td>\n",
              "      <td>family</td>\n",
              "      <td>public</td>\n",
              "      <td>single</td>\n",
              "      <td>independent</td>\n",
              "      <td>1990</td>\n",
              "      <td>technology</td>\n",
              "      <td>hunter-ostentatious</td>\n",
              "      <td>Catholic</td>\n",
              "      <td>student</td>\n",
              "      <td>red</td>\n",
              "      <td>40</td>\n",
              "      <td>low</td>\n",
              "      <td>1.87</td>\n",
              "    </tr>\n",
              "    <tr>\n",
              "      <th>2</th>\n",
              "      <td>U1003</td>\n",
              "      <td>22.119847</td>\n",
              "      <td>-100.946527</td>\n",
              "      <td>false</td>\n",
              "      <td>social drinker</td>\n",
              "      <td>formal</td>\n",
              "      <td>family</td>\n",
              "      <td>public</td>\n",
              "      <td>single</td>\n",
              "      <td>independent</td>\n",
              "      <td>1989</td>\n",
              "      <td>none</td>\n",
              "      <td>hard-worker</td>\n",
              "      <td>Catholic</td>\n",
              "      <td>student</td>\n",
              "      <td>blue</td>\n",
              "      <td>60</td>\n",
              "      <td>low</td>\n",
              "      <td>1.69</td>\n",
              "    </tr>\n",
              "    <tr>\n",
              "      <th>3</th>\n",
              "      <td>U1004</td>\n",
              "      <td>18.867000</td>\n",
              "      <td>-99.183000</td>\n",
              "      <td>false</td>\n",
              "      <td>abstemious</td>\n",
              "      <td>informal</td>\n",
              "      <td>family</td>\n",
              "      <td>public</td>\n",
              "      <td>single</td>\n",
              "      <td>independent</td>\n",
              "      <td>1940</td>\n",
              "      <td>variety</td>\n",
              "      <td>hard-worker</td>\n",
              "      <td>none</td>\n",
              "      <td>professional</td>\n",
              "      <td>green</td>\n",
              "      <td>44</td>\n",
              "      <td>medium</td>\n",
              "      <td>1.53</td>\n",
              "    </tr>\n",
              "    <tr>\n",
              "      <th>4</th>\n",
              "      <td>U1005</td>\n",
              "      <td>22.183477</td>\n",
              "      <td>-100.959891</td>\n",
              "      <td>false</td>\n",
              "      <td>abstemious</td>\n",
              "      <td>no preference</td>\n",
              "      <td>family</td>\n",
              "      <td>public</td>\n",
              "      <td>single</td>\n",
              "      <td>independent</td>\n",
              "      <td>1992</td>\n",
              "      <td>none</td>\n",
              "      <td>thrifty-protector</td>\n",
              "      <td>Catholic</td>\n",
              "      <td>student</td>\n",
              "      <td>black</td>\n",
              "      <td>65</td>\n",
              "      <td>medium</td>\n",
              "      <td>1.69</td>\n",
              "    </tr>\n",
              "  </tbody>\n",
              "</table>\n",
              "</div>\n",
              "      <button class=\"colab-df-convert\" onclick=\"convertToInteractive('df-59c5b5a3-a9a1-4d1f-9470-a49ba90b344e')\"\n",
              "              title=\"Convert this dataframe to an interactive table.\"\n",
              "              style=\"display:none;\">\n",
              "        \n",
              "  <svg xmlns=\"http://www.w3.org/2000/svg\" height=\"24px\"viewBox=\"0 0 24 24\"\n",
              "       width=\"24px\">\n",
              "    <path d=\"M0 0h24v24H0V0z\" fill=\"none\"/>\n",
              "    <path d=\"M18.56 5.44l.94 2.06.94-2.06 2.06-.94-2.06-.94-.94-2.06-.94 2.06-2.06.94zm-11 1L8.5 8.5l.94-2.06 2.06-.94-2.06-.94L8.5 2.5l-.94 2.06-2.06.94zm10 10l.94 2.06.94-2.06 2.06-.94-2.06-.94-.94-2.06-.94 2.06-2.06.94z\"/><path d=\"M17.41 7.96l-1.37-1.37c-.4-.4-.92-.59-1.43-.59-.52 0-1.04.2-1.43.59L10.3 9.45l-7.72 7.72c-.78.78-.78 2.05 0 2.83L4 21.41c.39.39.9.59 1.41.59.51 0 1.02-.2 1.41-.59l7.78-7.78 2.81-2.81c.8-.78.8-2.07 0-2.86zM5.41 20L4 18.59l7.72-7.72 1.47 1.35L5.41 20z\"/>\n",
              "  </svg>\n",
              "      </button>\n",
              "      \n",
              "  <style>\n",
              "    .colab-df-container {\n",
              "      display:flex;\n",
              "      flex-wrap:wrap;\n",
              "      gap: 12px;\n",
              "    }\n",
              "\n",
              "    .colab-df-convert {\n",
              "      background-color: #E8F0FE;\n",
              "      border: none;\n",
              "      border-radius: 50%;\n",
              "      cursor: pointer;\n",
              "      display: none;\n",
              "      fill: #1967D2;\n",
              "      height: 32px;\n",
              "      padding: 0 0 0 0;\n",
              "      width: 32px;\n",
              "    }\n",
              "\n",
              "    .colab-df-convert:hover {\n",
              "      background-color: #E2EBFA;\n",
              "      box-shadow: 0px 1px 2px rgba(60, 64, 67, 0.3), 0px 1px 3px 1px rgba(60, 64, 67, 0.15);\n",
              "      fill: #174EA6;\n",
              "    }\n",
              "\n",
              "    [theme=dark] .colab-df-convert {\n",
              "      background-color: #3B4455;\n",
              "      fill: #D2E3FC;\n",
              "    }\n",
              "\n",
              "    [theme=dark] .colab-df-convert:hover {\n",
              "      background-color: #434B5C;\n",
              "      box-shadow: 0px 1px 3px 1px rgba(0, 0, 0, 0.15);\n",
              "      filter: drop-shadow(0px 1px 2px rgba(0, 0, 0, 0.3));\n",
              "      fill: #FFFFFF;\n",
              "    }\n",
              "  </style>\n",
              "\n",
              "      <script>\n",
              "        const buttonEl =\n",
              "          document.querySelector('#df-59c5b5a3-a9a1-4d1f-9470-a49ba90b344e button.colab-df-convert');\n",
              "        buttonEl.style.display =\n",
              "          google.colab.kernel.accessAllowed ? 'block' : 'none';\n",
              "\n",
              "        async function convertToInteractive(key) {\n",
              "          const element = document.querySelector('#df-59c5b5a3-a9a1-4d1f-9470-a49ba90b344e');\n",
              "          const dataTable =\n",
              "            await google.colab.kernel.invokeFunction('convertToInteractive',\n",
              "                                                     [key], {});\n",
              "          if (!dataTable) return;\n",
              "\n",
              "          const docLinkHtml = 'Like what you see? Visit the ' +\n",
              "            '<a target=\"_blank\" href=https://colab.research.google.com/notebooks/data_table.ipynb>data table notebook</a>'\n",
              "            + ' to learn more about interactive tables.';\n",
              "          element.innerHTML = '';\n",
              "          dataTable['output_type'] = 'display_data';\n",
              "          await google.colab.output.renderOutput(dataTable, element);\n",
              "          const docLink = document.createElement('div');\n",
              "          docLink.innerHTML = docLinkHtml;\n",
              "          element.appendChild(docLink);\n",
              "        }\n",
              "      </script>\n",
              "    </div>\n",
              "  </div>\n",
              "  "
            ]
          },
          "metadata": {},
          "execution_count": 1
        }
      ]
    },
    {
      "cell_type": "code",
      "source": [
        "df.info()"
      ],
      "metadata": {
        "colab": {
          "base_uri": "https://localhost:8080/"
        },
        "id": "SZ9St6l7ZqI-",
        "outputId": "e3a12d77-4399-4af9-8579-09ac1470a4cf"
      },
      "execution_count": 2,
      "outputs": [
        {
          "output_type": "stream",
          "name": "stdout",
          "text": [
            "<class 'pandas.core.frame.DataFrame'>\n",
            "RangeIndex: 138 entries, 0 to 137\n",
            "Data columns (total 19 columns):\n",
            " #   Column            Non-Null Count  Dtype  \n",
            "---  ------            --------------  -----  \n",
            " 0   userID            138 non-null    object \n",
            " 1   latitude          138 non-null    float64\n",
            " 2   longitude         138 non-null    float64\n",
            " 3   smoker            138 non-null    object \n",
            " 4   drink_level       138 non-null    object \n",
            " 5   dress_preference  138 non-null    object \n",
            " 6   ambience          138 non-null    object \n",
            " 7   transport         138 non-null    object \n",
            " 8   marital_status    138 non-null    object \n",
            " 9   hijos             138 non-null    object \n",
            " 10  birth_year        138 non-null    int64  \n",
            " 11  interest          138 non-null    object \n",
            " 12  personality       138 non-null    object \n",
            " 13  religion          138 non-null    object \n",
            " 14  activity          138 non-null    object \n",
            " 15  color             138 non-null    object \n",
            " 16  weight            138 non-null    int64  \n",
            " 17  budget            138 non-null    object \n",
            " 18  height            138 non-null    float64\n",
            "dtypes: float64(3), int64(2), object(14)\n",
            "memory usage: 20.6+ KB\n"
          ]
        }
      ]
    },
    {
      "cell_type": "markdown",
      "source": [
        "0   userID             -> User ID\n",
        "\n",
        "1   latitude           -> Garis Lintang\n",
        "\n",
        "2   longitude          -> Garis Bujur\n",
        "\n",
        "3   smoker             -> Perokok\n",
        "\n",
        "4   drink_level        -> Tipe Minuman\n",
        "\n",
        "5   dress_preference   -> Preferensi Gaun\n",
        "\n",
        "6   ambience           -> Suasana\n",
        "\n",
        "7   transport          -> Transportasi\n",
        "\n",
        "8   marital_status     -> Status Pernikahan\n",
        "\n",
        "9   hijos              -> \n",
        "\n",
        "10  birth_year         -> Tahun kelahiran\n",
        "\n",
        "11  interest           -> Minat\n",
        "\n",
        "12  personality        -> Kepribadian\n",
        "\n",
        "13  religion           -> Agama\n",
        "\n",
        "14  activity           -> Pekerjaan\n",
        "\n",
        "15  color              -> Warna \n",
        "\n",
        "16  weight             -> Berat Badan\n",
        "\n",
        "17  budget             -> Biaya\n",
        "\n",
        "18  height             -> Tinggi badan\n"
      ],
      "metadata": {
        "id": "Pwx_uusge5KQ"
      }
    },
    {
      "cell_type": "markdown",
      "source": [
        "### Check & Handle Missing Values"
      ],
      "metadata": {
        "id": "VsCn6Z4AZu5G"
      }
    },
    {
      "cell_type": "code",
      "source": [
        "df.isna().sum()"
      ],
      "metadata": {
        "colab": {
          "base_uri": "https://localhost:8080/"
        },
        "id": "-LQ0evM0ZxDu",
        "outputId": "a3220438-e196-4769-896a-fde848a39075"
      },
      "execution_count": 3,
      "outputs": [
        {
          "output_type": "execute_result",
          "data": {
            "text/plain": [
              "userID              0\n",
              "latitude            0\n",
              "longitude           0\n",
              "smoker              0\n",
              "drink_level         0\n",
              "dress_preference    0\n",
              "ambience            0\n",
              "transport           0\n",
              "marital_status      0\n",
              "hijos               0\n",
              "birth_year          0\n",
              "interest            0\n",
              "personality         0\n",
              "religion            0\n",
              "activity            0\n",
              "color               0\n",
              "weight              0\n",
              "budget              0\n",
              "height              0\n",
              "dtype: int64"
            ]
          },
          "metadata": {},
          "execution_count": 3
        }
      ]
    },
    {
      "cell_type": "code",
      "source": [
        "kolom = ['smoker', 'dress_preference', 'ambience', 'transport', 'marital_status', 'hijos', 'activity', 'budget']\n",
        "\n",
        "for i in kolom :\n",
        "  print('Kolom ',i)\n",
        "  print(df[i].value_counts())\n",
        "  print('\\n')"
      ],
      "metadata": {
        "colab": {
          "base_uri": "https://localhost:8080/"
        },
        "id": "xyQYKvAXi3lC",
        "outputId": "326e1f74-cd4e-4d03-d0e2-5b2c6f3391fa"
      },
      "execution_count": 4,
      "outputs": [
        {
          "output_type": "stream",
          "name": "stdout",
          "text": [
            "Kolom  smoker\n",
            "false    109\n",
            "true      26\n",
            "?          3\n",
            "Name: smoker, dtype: int64\n",
            "\n",
            "\n",
            "Kolom  dress_preference\n",
            "no preference    53\n",
            "formal           41\n",
            "informal         35\n",
            "?                 5\n",
            "elegant           4\n",
            "Name: dress_preference, dtype: int64\n",
            "\n",
            "\n",
            "Kolom  ambience\n",
            "family      70\n",
            "friends     46\n",
            "solitary    16\n",
            "?            6\n",
            "Name: ambience, dtype: int64\n",
            "\n",
            "\n",
            "Kolom  transport\n",
            "public       82\n",
            "car owner    35\n",
            "on foot      14\n",
            "?             7\n",
            "Name: transport, dtype: int64\n",
            "\n",
            "\n",
            "Kolom  marital_status\n",
            "single     122\n",
            "married     10\n",
            "?            4\n",
            "widow        2\n",
            "Name: marital_status, dtype: int64\n",
            "\n",
            "\n",
            "Kolom  hijos\n",
            "independent    113\n",
            "kids            11\n",
            "?               11\n",
            "dependent        3\n",
            "Name: hijos, dtype: int64\n",
            "\n",
            "\n",
            "Kolom  activity\n",
            "student          113\n",
            "professional      15\n",
            "?                  7\n",
            "unemployed         2\n",
            "working-class      1\n",
            "Name: activity, dtype: int64\n",
            "\n",
            "\n",
            "Kolom  budget\n",
            "medium    91\n",
            "low       35\n",
            "?          7\n",
            "high       5\n",
            "Name: budget, dtype: int64\n",
            "\n",
            "\n"
          ]
        }
      ]
    },
    {
      "cell_type": "markdown",
      "source": [
        "Terdapat data yang mengandung nilai '?' , ini dapat dianggap sebagai nilai yang tidak pasti dimana user yang menginput data tidak memberikan nilai sesuai poin yang disediakan sehingga diputuskan untuk dihapus agar tidak mempengaruhi jumlah value yang lainnya."
      ],
      "metadata": {
        "id": "KiKxuRQ8cBlB"
      }
    },
    {
      "cell_type": "code",
      "source": [
        "# smoker\n",
        "df = df.drop(df.index[df['smoker'] == '?'])\n",
        "\n",
        "# dress_preference\n",
        "df = df.drop(df.index[df['dress_preference'] == '?'])\n",
        "\n",
        "# ambience\n",
        "df = df.drop(df.index[df['ambience'] == '?'])\n",
        "\n",
        "# transport\n",
        "df = df.drop(df.index[df['transport'] == '?'])\n",
        "\n",
        "# marital_status\n",
        "df = df.drop(df.index[df['marital_status'] == '?'])\n",
        "\n",
        "# hijos\n",
        "df = df.drop(df.index[df['hijos'] == '?'])\n",
        "\n",
        "# activity\n",
        "df = df.drop(df.index[df['activity'] == '?'])\n",
        "\n",
        "# budget\n",
        "df = df.drop(df.index[df['budget'] == '?'])"
      ],
      "metadata": {
        "id": "rrDkP-6hrmSx"
      },
      "execution_count": 5,
      "outputs": []
    },
    {
      "cell_type": "code",
      "source": [
        "kolom = ['smoker', 'dress_preference', 'ambience', 'transport', 'marital_status', 'hijos', 'activity', 'budget']\n",
        "\n",
        "for i in kolom :\n",
        "  print('Kolom ',i)\n",
        "  print(df[i].value_counts())\n",
        "  print('\\n')"
      ],
      "metadata": {
        "colab": {
          "base_uri": "https://localhost:8080/"
        },
        "id": "HK72ImULsKJO",
        "outputId": "5919159a-bf3b-4bc9-aa19-3d267048e3d5"
      },
      "execution_count": 6,
      "outputs": [
        {
          "output_type": "stream",
          "name": "stdout",
          "text": [
            "Kolom  smoker\n",
            "false    94\n",
            "true     23\n",
            "Name: smoker, dtype: int64\n",
            "\n",
            "\n",
            "Kolom  dress_preference\n",
            "no preference    46\n",
            "formal           38\n",
            "informal         29\n",
            "elegant           4\n",
            "Name: dress_preference, dtype: int64\n",
            "\n",
            "\n",
            "Kolom  ambience\n",
            "family      65\n",
            "friends     42\n",
            "solitary    10\n",
            "Name: ambience, dtype: int64\n",
            "\n",
            "\n",
            "Kolom  transport\n",
            "public       71\n",
            "car owner    33\n",
            "on foot      13\n",
            "Name: transport, dtype: int64\n",
            "\n",
            "\n",
            "Kolom  marital_status\n",
            "single     106\n",
            "married      9\n",
            "widow        2\n",
            "Name: marital_status, dtype: int64\n",
            "\n",
            "\n",
            "Kolom  hijos\n",
            "independent    105\n",
            "kids            10\n",
            "dependent        2\n",
            "Name: hijos, dtype: int64\n",
            "\n",
            "\n",
            "Kolom  activity\n",
            "student          101\n",
            "professional      14\n",
            "unemployed         1\n",
            "working-class      1\n",
            "Name: activity, dtype: int64\n",
            "\n",
            "\n",
            "Kolom  budget\n",
            "medium    81\n",
            "low       32\n",
            "high       4\n",
            "Name: budget, dtype: int64\n",
            "\n",
            "\n"
          ]
        }
      ]
    },
    {
      "cell_type": "markdown",
      "source": [
        "### Check & Handle Duplicated Data"
      ],
      "metadata": {
        "id": "rd7u0uXqanID"
      }
    },
    {
      "cell_type": "code",
      "source": [
        "df.duplicated()"
      ],
      "metadata": {
        "colab": {
          "base_uri": "https://localhost:8080/"
        },
        "id": "AEFwf15ElTiu",
        "outputId": "52194a7f-1351-42bf-a1d8-6f503f950b5f"
      },
      "execution_count": 7,
      "outputs": [
        {
          "output_type": "execute_result",
          "data": {
            "text/plain": [
              "0      False\n",
              "1      False\n",
              "2      False\n",
              "3      False\n",
              "4      False\n",
              "       ...  \n",
              "133    False\n",
              "134    False\n",
              "135    False\n",
              "136    False\n",
              "137    False\n",
              "Length: 117, dtype: bool"
            ]
          },
          "metadata": {},
          "execution_count": 7
        }
      ]
    },
    {
      "cell_type": "markdown",
      "source": [
        "Tidak ada duplicate data"
      ],
      "metadata": {
        "id": "-AHDEIillms5"
      }
    },
    {
      "cell_type": "markdown",
      "source": [
        "### Convert Data Type"
      ],
      "metadata": {
        "id": "PUWxTaFud5fj"
      }
    },
    {
      "cell_type": "markdown",
      "source": [
        "Terdapat satu kolom yang seharusnya bernilai boolean tetapi dikarenakan tata cara penulisan yang salah menyebabkan perubahan tipe data menjadi object/string."
      ],
      "metadata": {
        "id": "b1asbwfeceAU"
      }
    },
    {
      "cell_type": "code",
      "source": [
        "df['smoker'] = df['smoker'].replace('false', False)\n",
        "df['smoker'] = df['smoker'].replace('true', True)"
      ],
      "metadata": {
        "id": "3gxV1-9imkeY"
      },
      "execution_count": 8,
      "outputs": []
    },
    {
      "cell_type": "code",
      "source": [
        "df.info()"
      ],
      "metadata": {
        "colab": {
          "base_uri": "https://localhost:8080/"
        },
        "id": "WH7xcrX8m5D8",
        "outputId": "52209b0a-a314-4d68-fd1c-20a528cbe74e"
      },
      "execution_count": 9,
      "outputs": [
        {
          "output_type": "stream",
          "name": "stdout",
          "text": [
            "<class 'pandas.core.frame.DataFrame'>\n",
            "Int64Index: 117 entries, 0 to 137\n",
            "Data columns (total 19 columns):\n",
            " #   Column            Non-Null Count  Dtype  \n",
            "---  ------            --------------  -----  \n",
            " 0   userID            117 non-null    object \n",
            " 1   latitude          117 non-null    float64\n",
            " 2   longitude         117 non-null    float64\n",
            " 3   smoker            117 non-null    bool   \n",
            " 4   drink_level       117 non-null    object \n",
            " 5   dress_preference  117 non-null    object \n",
            " 6   ambience          117 non-null    object \n",
            " 7   transport         117 non-null    object \n",
            " 8   marital_status    117 non-null    object \n",
            " 9   hijos             117 non-null    object \n",
            " 10  birth_year        117 non-null    int64  \n",
            " 11  interest          117 non-null    object \n",
            " 12  personality       117 non-null    object \n",
            " 13  religion          117 non-null    object \n",
            " 14  activity          117 non-null    object \n",
            " 15  color             117 non-null    object \n",
            " 16  weight            117 non-null    int64  \n",
            " 17  budget            117 non-null    object \n",
            " 18  height            117 non-null    float64\n",
            "dtypes: bool(1), float64(3), int64(2), object(13)\n",
            "memory usage: 17.5+ KB\n"
          ]
        }
      ]
    },
    {
      "cell_type": "markdown",
      "source": [
        "### Delete Unused Column"
      ],
      "metadata": {
        "id": "lHO0ZVsvE2Pc"
      }
    },
    {
      "cell_type": "code",
      "source": [
        "kol = ['latitude', 'longitude', 'dress_preference', 'transport', 'birth_year', 'interest','religion','color', 'weight', 'height']\n",
        "\n",
        "for i in kol :\n",
        "  del df[i]"
      ],
      "metadata": {
        "id": "itvUSeATEHWq"
      },
      "execution_count": 21,
      "outputs": []
    },
    {
      "cell_type": "code",
      "source": [
        "df.info()"
      ],
      "metadata": {
        "colab": {
          "base_uri": "https://localhost:8080/"
        },
        "id": "iQIilIWsEVRe",
        "outputId": "fc0d506b-398f-489e-9a81-6f66d7d399cb"
      },
      "execution_count": 22,
      "outputs": [
        {
          "output_type": "stream",
          "name": "stdout",
          "text": [
            "<class 'pandas.core.frame.DataFrame'>\n",
            "Int64Index: 117 entries, 0 to 137\n",
            "Data columns (total 9 columns):\n",
            " #   Column          Non-Null Count  Dtype \n",
            "---  ------          --------------  ----- \n",
            " 0   userID          117 non-null    object\n",
            " 1   smoker          117 non-null    bool  \n",
            " 2   drink_level     117 non-null    object\n",
            " 3   ambience        117 non-null    object\n",
            " 4   marital_status  117 non-null    object\n",
            " 5   hijos           117 non-null    object\n",
            " 6   personality     117 non-null    object\n",
            " 7   activity        117 non-null    object\n",
            " 8   budget          117 non-null    object\n",
            "dtypes: bool(1), object(8)\n",
            "memory usage: 12.4+ KB\n"
          ]
        }
      ]
    },
    {
      "cell_type": "markdown",
      "source": [
        "## Visualisasi"
      ],
      "metadata": {
        "id": "t9PXFF_Top-z"
      }
    },
    {
      "cell_type": "code",
      "source": [
        "import matplotlib.pyplot as plt\n",
        "import seaborn as sns"
      ],
      "metadata": {
        "id": "q_s0hNpejwe3"
      },
      "execution_count": 11,
      "outputs": []
    },
    {
      "cell_type": "markdown",
      "source": [
        "### Number of Customers by Activity"
      ],
      "metadata": {
        "id": "S5D_-n5Tk-x5"
      }
    },
    {
      "cell_type": "code",
      "source": [
        "ax = plt.axes()\n",
        "sns.countplot(x='activity', data=df, palette=['#FF5677','#B958A5','#9145B6','#4C3F91'])  \n",
        "ax.set_title('Number of Customers by Activity')\n",
        "ax.set_xlabel('Activity')\n",
        "ax.set_ylabel('Total Customer')"
      ],
      "metadata": {
        "colab": {
          "base_uri": "https://localhost:8080/",
          "height": 312
        },
        "id": "kfdChVENkMTc",
        "outputId": "36bd410d-e37c-49fe-bbe7-ca2c95a01a59"
      },
      "execution_count": 12,
      "outputs": [
        {
          "output_type": "execute_result",
          "data": {
            "text/plain": [
              "Text(0, 0.5, 'Total Customer')"
            ]
          },
          "metadata": {},
          "execution_count": 12
        },
        {
          "output_type": "display_data",
          "data": {
            "text/plain": [
              "<Figure size 432x288 with 1 Axes>"
            ],
            "image/png": "[encoded data removed]"
          },
          "metadata": {
            "needs_background": "light"
          }
        }
      ]
    },
    {
      "cell_type": "markdown",
      "source": [
        "Insight : Dari keseluruhan pengunjung dapat dilihat bahwa pengunjung terbanyak merupakan dari kalangan pelajar yang bahkan melebihi setengah dari total pengunjung."
      ],
      "metadata": {
        "id": "K65yr7gicwdv"
      }
    },
    {
      "cell_type": "markdown",
      "source": [
        "### DataFrame Khusus 'Student'"
      ],
      "metadata": {
        "id": "nlGtrFubdLHr"
      }
    },
    {
      "cell_type": "code",
      "source": [
        "# Membuat data frame baru untuk filter hanya 'Student'\n",
        "\n",
        "df2 = df[df['activity']=='student']\n",
        "df2.head()"
      ],
      "metadata": {
        "colab": {
          "base_uri": "https://localhost:8080/",
          "height": 322
        },
        "id": "QGbIvk72lal8",
        "outputId": "af1856a9-5b56-4d49-f427-e425e2039b7e"
      },
      "execution_count": 13,
      "outputs": [
        {
          "output_type": "execute_result",
          "data": {
            "text/plain": [
              "  userID   latitude   longitude  smoker     drink_level dress_preference  \\\n",
              "0  U1001  22.139997 -100.978803   False      abstemious         informal   \n",
              "1  U1002  22.150087 -100.983325   False      abstemious         informal   \n",
              "2  U1003  22.119847 -100.946527   False  social drinker           formal   \n",
              "4  U1005  22.183477 -100.959891   False      abstemious    no preference   \n",
              "5  U1006  22.150000 -100.983000    True  social drinker    no preference   \n",
              "\n",
              "  ambience  transport marital_status        hijos  birth_year    interest  \\\n",
              "0   family    on foot         single  independent        1989     variety   \n",
              "1   family     public         single  independent        1990  technology   \n",
              "2   family     public         single  independent        1989        none   \n",
              "4   family     public         single  independent        1992        none   \n",
              "5  friends  car owner         single  independent        1989     variety   \n",
              "\n",
              "           personality  religion activity  color  weight  budget  height  \n",
              "0    thrifty-protector      none  student  black      69  medium    1.77  \n",
              "1  hunter-ostentatious  Catholic  student    red      40     low    1.87  \n",
              "2          hard-worker  Catholic  student   blue      60     low    1.69  \n",
              "4    thrifty-protector  Catholic  student  black      65  medium    1.69  \n",
              "5          hard-worker      none  student   blue      75  medium    1.80  "
            ],
            "text/html": [
              "\n",
              "  <div id=\"df-0819f91a-ac36-4def-9443-1fb89692beb7\">\n",
              "    <div class=\"colab-df-container\">\n",
              "      <div>\n",
              "<style scoped>\n",
              "    .dataframe tbody tr th:only-of-type {\n",
              "        vertical-align: middle;\n",
              "    }\n",
              "\n",
              "    .dataframe tbody tr th {\n",
              "        vertical-align: top;\n",
              "    }\n",
              "\n",
              "    .dataframe thead th {\n",
              "        text-align: right;\n",
              "    }\n",
              "</style>\n",
              "<table border=\"1\" class=\"dataframe\">\n",
              "  <thead>\n",
              "    <tr style=\"text-align: right;\">\n",
              "      <th></th>\n",
              "      <th>userID</th>\n",
              "      <th>latitude</th>\n",
              "      <th>longitude</th>\n",
              "      <th>smoker</th>\n",
              "      <th>drink_level</th>\n",
              "      <th>dress_preference</th>\n",
              "      <th>ambience</th>\n",
              "      <th>transport</th>\n",
              "      <th>marital_status</th>\n",
              "      <th>hijos</th>\n",
              "      <th>birth_year</th>\n",
              "      <th>interest</th>\n",
              "      <th>personality</th>\n",
              "      <th>religion</th>\n",
              "      <th>activity</th>\n",
              "      <th>color</th>\n",
              "      <th>weight</th>\n",
              "      <th>budget</th>\n",
              "      <th>height</th>\n",
              "    </tr>\n",
              "  </thead>\n",
              "  <tbody>\n",
              "    <tr>\n",
              "      <th>0</th>\n",
              "      <td>U1001</td>\n",
              "      <td>22.139997</td>\n",
              "      <td>-100.978803</td>\n",
              "      <td>False</td>\n",
              "      <td>abstemious</td>\n",
              "      <td>informal</td>\n",
              "      <td>family</td>\n",
              "      <td>on foot</td>\n",
              "      <td>single</td>\n",
              "      <td>independent</td>\n",
              "      <td>1989</td>\n",
              "      <td>variety</td>\n",
              "      <td>thrifty-protector</td>\n",
              "      <td>none</td>\n",
              "      <td>student</td>\n",
              "      <td>black</td>\n",
              "      <td>69</td>\n",
              "      <td>medium</td>\n",
              "      <td>1.77</td>\n",
              "    </tr>\n",
              "    <tr>\n",
              "      <th>1</th>\n",
              "      <td>U1002</td>\n",
              "      <td>22.150087</td>\n",
              "      <td>-100.983325</td>\n",
              "      <td>False</td>\n",
              "      <td>abstemious</td>\n",
              "      <td>informal</td>\n",
              "      <td>family</td>\n",
              "      <td>public</td>\n",
              "      <td>single</td>\n",
              "      <td>independent</td>\n",
              "      <td>1990</td>\n",
              "      <td>technology</td>\n",
              "      <td>hunter-ostentatious</td>\n",
              "      <td>Catholic</td>\n",
              "      <td>student</td>\n",
              "      <td>red</td>\n",
              "      <td>40</td>\n",
              "      <td>low</td>\n",
              "      <td>1.87</td>\n",
              "    </tr>\n",
              "    <tr>\n",
              "      <th>2</th>\n",
              "      <td>U1003</td>\n",
              "      <td>22.119847</td>\n",
              "      <td>-100.946527</td>\n",
              "      <td>False</td>\n",
              "      <td>social drinker</td>\n",
              "      <td>formal</td>\n",
              "      <td>family</td>\n",
              "      <td>public</td>\n",
              "      <td>single</td>\n",
              "      <td>independent</td>\n",
              "      <td>1989</td>\n",
              "      <td>none</td>\n",
              "      <td>hard-worker</td>\n",
              "      <td>Catholic</td>\n",
              "      <td>student</td>\n",
              "      <td>blue</td>\n",
              "      <td>60</td>\n",
              "      <td>low</td>\n",
              "      <td>1.69</td>\n",
              "    </tr>\n",
              "    <tr>\n",
              "      <th>4</th>\n",
              "      <td>U1005</td>\n",
              "      <td>22.183477</td>\n",
              "      <td>-100.959891</td>\n",
              "      <td>False</td>\n",
              "      <td>abstemious</td>\n",
              "      <td>no preference</td>\n",
              "      <td>family</td>\n",
              "      <td>public</td>\n",
              "      <td>single</td>\n",
              "      <td>independent</td>\n",
              "      <td>1992</td>\n",
              "      <td>none</td>\n",
              "      <td>thrifty-protector</td>\n",
              "      <td>Catholic</td>\n",
              "      <td>student</td>\n",
              "      <td>black</td>\n",
              "      <td>65</td>\n",
              "      <td>medium</td>\n",
              "      <td>1.69</td>\n",
              "    </tr>\n",
              "    <tr>\n",
              "      <th>5</th>\n",
              "      <td>U1006</td>\n",
              "      <td>22.150000</td>\n",
              "      <td>-100.983000</td>\n",
              "      <td>True</td>\n",
              "      <td>social drinker</td>\n",
              "      <td>no preference</td>\n",
              "      <td>friends</td>\n",
              "      <td>car owner</td>\n",
              "      <td>single</td>\n",
              "      <td>independent</td>\n",
              "      <td>1989</td>\n",
              "      <td>variety</td>\n",
              "      <td>hard-worker</td>\n",
              "      <td>none</td>\n",
              "      <td>student</td>\n",
              "      <td>blue</td>\n",
              "      <td>75</td>\n",
              "      <td>medium</td>\n",
              "      <td>1.80</td>\n",
              "    </tr>\n",
              "  </tbody>\n",
              "</table>\n",
              "</div>\n",
              "      <button class=\"colab-df-convert\" onclick=\"convertToInteractive('df-0819f91a-ac36-4def-9443-1fb89692beb7')\"\n",
              "              title=\"Convert this dataframe to an interactive table.\"\n",
              "              style=\"display:none;\">\n",
              "        \n",
              "  <svg xmlns=\"http://www.w3.org/2000/svg\" height=\"24px\"viewBox=\"0 0 24 24\"\n",
              "       width=\"24px\">\n",
              "    <path d=\"M0 0h24v24H0V0z\" fill=\"none\"/>\n",
              "    <path d=\"M18.56 5.44l.94 2.06.94-2.06 2.06-.94-2.06-.94-.94-2.06-.94 2.06-2.06.94zm-11 1L8.5 8.5l.94-2.06 2.06-.94-2.06-.94L8.5 2.5l-.94 2.06-2.06.94zm10 10l.94 2.06.94-2.06 2.06-.94-2.06-.94-.94-2.06-.94 2.06-2.06.94z\"/><path d=\"M17.41 7.96l-1.37-1.37c-.4-.4-.92-.59-1.43-.59-.52 0-1.04.2-1.43.59L10.3 9.45l-7.72 7.72c-.78.78-.78 2.05 0 2.83L4 21.41c.39.39.9.59 1.41.59.51 0 1.02-.2 1.41-.59l7.78-7.78 2.81-2.81c.8-.78.8-2.07 0-2.86zM5.41 20L4 18.59l7.72-7.72 1.47 1.35L5.41 20z\"/>\n",
              "  </svg>\n",
              "      </button>\n",
              "      \n",
              "  <style>\n",
              "    .colab-df-container {\n",
              "      display:flex;\n",
              "      flex-wrap:wrap;\n",
              "      gap: 12px;\n",
              "    }\n",
              "\n",
              "    .colab-df-convert {\n",
              "      background-color: #E8F0FE;\n",
              "      border: none;\n",
              "      border-radius: 50%;\n",
              "      cursor: pointer;\n",
              "      display: none;\n",
              "      fill: #1967D2;\n",
              "      height: 32px;\n",
              "      padding: 0 0 0 0;\n",
              "      width: 32px;\n",
              "    }\n",
              "\n",
              "    .colab-df-convert:hover {\n",
              "      background-color: #E2EBFA;\n",
              "      box-shadow: 0px 1px 2px rgba(60, 64, 67, 0.3), 0px 1px 3px 1px rgba(60, 64, 67, 0.15);\n",
              "      fill: #174EA6;\n",
              "    }\n",
              "\n",
              "    [theme=dark] .colab-df-convert {\n",
              "      background-color: #3B4455;\n",
              "      fill: #D2E3FC;\n",
              "    }\n",
              "\n",
              "    [theme=dark] .colab-df-convert:hover {\n",
              "      background-color: #434B5C;\n",
              "      box-shadow: 0px 1px 3px 1px rgba(0, 0, 0, 0.15);\n",
              "      filter: drop-shadow(0px 1px 2px rgba(0, 0, 0, 0.3));\n",
              "      fill: #FFFFFF;\n",
              "    }\n",
              "  </style>\n",
              "\n",
              "      <script>\n",
              "        const buttonEl =\n",
              "          document.querySelector('#df-0819f91a-ac36-4def-9443-1fb89692beb7 button.colab-df-convert');\n",
              "        buttonEl.style.display =\n",
              "          google.colab.kernel.accessAllowed ? 'block' : 'none';\n",
              "\n",
              "        async function convertToInteractive(key) {\n",
              "          const element = document.querySelector('#df-0819f91a-ac36-4def-9443-1fb89692beb7');\n",
              "          const dataTable =\n",
              "            await google.colab.kernel.invokeFunction('convertToInteractive',\n",
              "                                                     [key], {});\n",
              "          if (!dataTable) return;\n",
              "\n",
              "          const docLinkHtml = 'Like what you see? Visit the ' +\n",
              "            '<a target=\"_blank\" href=https://colab.research.google.com/notebooks/data_table.ipynb>data table notebook</a>'\n",
              "            + ' to learn more about interactive tables.';\n",
              "          element.innerHTML = '';\n",
              "          dataTable['output_type'] = 'display_data';\n",
              "          await google.colab.output.renderOutput(dataTable, element);\n",
              "          const docLink = document.createElement('div');\n",
              "          docLink.innerHTML = docLinkHtml;\n",
              "          element.appendChild(docLink);\n",
              "        }\n",
              "      </script>\n",
              "    </div>\n",
              "  </div>\n",
              "  "
            ]
          },
          "metadata": {},
          "execution_count": 13
        }
      ]
    },
    {
      "cell_type": "markdown",
      "source": [
        "### Student Drink Level"
      ],
      "metadata": {
        "id": "4udcz2tNl6vG"
      }
    },
    {
      "cell_type": "code",
      "source": [
        "cols = ['#9254C8','#F900BF','#FF85B3']\n",
        "data = pd.DataFrame(df2['drink_level'].value_counts())\n",
        "data = data.reset_index()\n",
        "plt.pie(data['drink_level'], labels=data['index'], autopct='%1.1f%%', colors = cols, shadow = True, explode = (0.1, 0, 0))\n",
        "plt.title('Student Drink Level')\n",
        "plt.show()"
      ],
      "metadata": {
        "colab": {
          "base_uri": "https://localhost:8080/",
          "height": 264
        },
        "id": "Pp7L6ZLCmAXW",
        "outputId": "c37c75f6-ef49-4a45-aea7-4c1042aacf56"
      },
      "execution_count": 14,
      "outputs": [
        {
          "output_type": "display_data",
          "data": {
            "text/plain": [
              "<Figure size 432x288 with 1 Axes>"
            ],
            "image/png": "[encoded data removed]"
          },
          "metadata": {}
        }
      ]
    },
    {
      "cell_type": "markdown",
      "source": [
        "Insight : Minuman yang dipilih kebanyakan pelajar merupakan tipe minuman biasa."
      ],
      "metadata": {
        "id": "QQVYk_JTfKoF"
      }
    },
    {
      "cell_type": "markdown",
      "source": [
        "### Student Smoker Rate"
      ],
      "metadata": {
        "id": "jH_F82DrnSkQ"
      }
    },
    {
      "cell_type": "code",
      "source": [
        "cols = ['#F24A72', '#F47340']\n",
        "data = pd.DataFrame(df2['smoker'].value_counts())\n",
        "data = data.reset_index()\n",
        "plt.pie(data['smoker'], labels=data['index'], autopct='%1.1f%%', colors = cols, shadow = True)\n",
        "plt.title('Smoker Rate')\n",
        "\n",
        "centre_circle = plt.Circle((0,0),0.70,fc='white')\n",
        "fig = plt.gcf()\n",
        "fig.gca().add_artist(centre_circle)\n",
        "\n",
        "plt.tight_layout()\n",
        "plt.show()"
      ],
      "metadata": {
        "colab": {
          "base_uri": "https://localhost:8080/",
          "height": 297
        },
        "id": "ecp5y6D8nTqG",
        "outputId": "6c9e6bfc-2632-480d-96a0-116b2137cd90"
      },
      "execution_count": 15,
      "outputs": [
        {
          "output_type": "display_data",
          "data": {
            "text/plain": [
              "<Figure size 432x288 with 1 Axes>"
            ],
            "image/png": "[encoded data removed]"
          },
          "metadata": {}
        }
      ]
    },
    {
      "cell_type": "markdown",
      "source": [
        "Insight : Lebih dari setengah pengunjung yang merupakan pelajar merupakan tipe yang tidak perokok."
      ],
      "metadata": {
        "id": "lhNhADmIfqGJ"
      }
    },
    {
      "cell_type": "markdown",
      "source": [
        "### Student Marital Status"
      ],
      "metadata": {
        "id": "SS9Mbkwu1-xY"
      }
    },
    {
      "cell_type": "code",
      "source": [
        "cols = ['#F2789F', '#A3423C']\n",
        "data = pd.DataFrame(df2['marital_status'].value_counts())\n",
        "data = data.reset_index()\n",
        "plt.pie(data['marital_status'], labels=data['index'], autopct='%1.1f%%', colors = cols, shadow = True)\n",
        "plt.title('Marital Status')\n",
        "\n",
        "centre_circle = plt.Circle((0,0),0.70,fc='white')\n",
        "fig = plt.gcf()\n",
        "fig.gca().add_artist(centre_circle)\n",
        "\n",
        "plt.tight_layout()\n",
        "plt.show()"
      ],
      "metadata": {
        "colab": {
          "base_uri": "https://localhost:8080/",
          "height": 297
        },
        "id": "4xSs_yqL1__E",
        "outputId": "ca51dac6-e126-4703-d68a-74e395f7ea2d"
      },
      "execution_count": 16,
      "outputs": [
        {
          "output_type": "display_data",
          "data": {
            "text/plain": [
              "<Figure size 432x288 with 1 Axes>"
            ],
            "image/png": "[encoded data removed]"
          },
          "metadata": {}
        }
      ]
    },
    {
      "cell_type": "markdown",
      "source": [
        "Insight : Status pelajar yang berkunjung lebih dari 90% belum menikah / single."
      ],
      "metadata": {
        "id": "zKdee4y4f6G4"
      }
    },
    {
      "cell_type": "markdown",
      "source": [
        "### Student Hijos"
      ],
      "metadata": {
        "id": "-BZVyO6seCoX"
      }
    },
    {
      "cell_type": "code",
      "source": [
        "ax = plt.axes()\n",
        "\n",
        "sns.countplot(x='hijos', data=df2, palette=['#F68989','#C65D7B','#874356'])\n",
        "ax.set_title('Number of Customers by Hijos')\n",
        "ax.set_xlabel('Hijos')\n",
        "ax.set_ylabel('Total Customer')"
      ],
      "metadata": {
        "colab": {
          "base_uri": "https://localhost:8080/",
          "height": 312
        },
        "id": "uLNLk88GeEC1",
        "outputId": "a80b2cf5-9a87-4011-b5d0-dce74b7abe66"
      },
      "execution_count": 17,
      "outputs": [
        {
          "output_type": "execute_result",
          "data": {
            "text/plain": [
              "Text(0, 0.5, 'Total Customer')"
            ]
          },
          "metadata": {},
          "execution_count": 17
        },
        {
          "output_type": "display_data",
          "data": {
            "text/plain": [
              "<Figure size 432x288 with 1 Axes>"
            ],
            "image/png": "[encoded data removed]"
          },
          "metadata": {
            "needs_background": "light"
          }
        }
      ]
    },
    {
      "cell_type": "markdown",
      "source": [
        "Insight : Kebanyakan pelajar yang berkunjung merupakan pelajar yang hidup secara mandiri."
      ],
      "metadata": {
        "id": "hGW69zdugYHQ"
      }
    },
    {
      "cell_type": "markdown",
      "source": [
        "### Student Budget"
      ],
      "metadata": {
        "id": "Xrmpc6icd3ZN"
      }
    },
    {
      "cell_type": "code",
      "source": [
        "ax = plt.axes()\n",
        "\n",
        "sns.countplot(x='budget', data=df2, palette=['#461111','#A13333','#B3541E'])\n",
        "ax.set_title('Number of Customers by Budget')\n",
        "ax.set_xlabel('Budget')\n",
        "ax.set_ylabel('Total Customer')"
      ],
      "metadata": {
        "colab": {
          "base_uri": "https://localhost:8080/",
          "height": 312
        },
        "id": "-bz4PINBpSC5",
        "outputId": "784da345-c9e5-4ac6-b298-94a878478ce0"
      },
      "execution_count": 18,
      "outputs": [
        {
          "output_type": "execute_result",
          "data": {
            "text/plain": [
              "Text(0, 0.5, 'Total Customer')"
            ]
          },
          "metadata": {},
          "execution_count": 18
        },
        {
          "output_type": "display_data",
          "data": {
            "text/plain": [
              "<Figure size 432x288 with 1 Axes>"
            ],
            "image/png": "[encoded data removed]"
          },
          "metadata": {
            "needs_background": "light"
          }
        }
      ]
    },
    {
      "cell_type": "markdown",
      "source": [
        "Insight : Kebanyakan pengunjung yang merupakan pelajar memilih menghabiskan budget mereka dalam rentang medium, tidak terlalu menghabiskan uang dan juga tidak terlalu sedikit."
      ],
      "metadata": {
        "id": "VURirZW9goXK"
      }
    },
    {
      "cell_type": "markdown",
      "source": [
        "### Student Personality"
      ],
      "metadata": {
        "id": "ijuzO-LGd7PJ"
      }
    },
    {
      "cell_type": "code",
      "source": [
        "ax = plt.axes()\n",
        "sns.countplot(y='personality', data=df2, palette=['#781D42','#A3423C','#DE834D','#ECB365'])  \n",
        "ax.set_title('Number of Customers by Personality')\n",
        "ax.set_ylabel('Personality')\n",
        "ax.set_xlabel('Total Customer')"
      ],
      "metadata": {
        "colab": {
          "base_uri": "https://localhost:8080/",
          "height": 312
        },
        "id": "ok0brLVrptUv",
        "outputId": "5b036e31-1e2e-4d99-a4f9-630ef7ba7d85"
      },
      "execution_count": 19,
      "outputs": [
        {
          "output_type": "execute_result",
          "data": {
            "text/plain": [
              "Text(0.5, 0, 'Total Customer')"
            ]
          },
          "metadata": {},
          "execution_count": 19
        },
        {
          "output_type": "display_data",
          "data": {
            "text/plain": [
              "<Figure size 432x288 with 1 Axes>"
            ],
            "image/png": "[encoded data removed]"
          },
          "metadata": {
            "needs_background": "light"
          }
        }
      ]
    },
    {
      "cell_type": "markdown",
      "source": [
        "Insight : Kebanyakan pengunjung yang merupakan pelajar cenderung bersifat hemat."
      ],
      "metadata": {
        "id": "MtX9vN5MhGcB"
      }
    },
    {
      "cell_type": "markdown",
      "source": [
        "### Student Ambience"
      ],
      "metadata": {
        "id": "JLYi8Ukzdzis"
      }
    },
    {
      "cell_type": "code",
      "source": [
        "cols = ['#874356','#C65D7B','#F68989']\n",
        "data = pd.DataFrame(df2['ambience'].value_counts())\n",
        "data = data.reset_index()\n",
        "plt.pie(data['ambience'], labels=data['index'], autopct='%1.1f%%', colors = cols, shadow = True, explode = (0.1, 0.1, 0.1))\n",
        "plt.title('Ambience')\n",
        "plt.show()"
      ],
      "metadata": {
        "colab": {
          "base_uri": "https://localhost:8080/",
          "height": 265
        },
        "id": "tnp0WSEE3WOg",
        "outputId": "00a60cb8-0568-425d-a47c-4bbcec53a21a"
      },
      "execution_count": 20,
      "outputs": [
        {
          "output_type": "display_data",
          "data": {
            "text/plain": [
              "<Figure size 432x288 with 1 Axes>"
            ],
            "image/png": "[encoded data removed]"
          },
          "metadata": {}
        }
      ]
    },
    {
      "cell_type": "markdown",
      "source": [
        "Insight : Suasana yang cenderung di minati pelajar yang berkunjung adalah kekeluargaan"
      ],
      "metadata": {
        "id": "JAeQz2Rghjto"
      }
    }
  ]
}