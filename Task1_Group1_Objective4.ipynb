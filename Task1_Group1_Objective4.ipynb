{
  "cells": [
    {
      "cell_type": "markdown",
      "metadata": {
        "id": "view-in-github",
        "colab_type": "text"
      },
      "source": [
        "<a href=\"https://colab.research.google.com/github/crzysab/Stupen-Task/blob/main/Task1_Group1_Objective4.ipynb\" target=\"_parent\"><img src=\"https://colab.research.google.com/assets/colab-badge.svg\" alt=\"Open In Colab\"/></a>"
      ]
    },
    {
      "cell_type": "markdown",
      "metadata": {
        "id": "NVIgir8hHCLy"
      },
      "source": [
        "# 4. Code Documentation and Structure"
      ]
    },
    {
      "cell_type": "markdown",
      "metadata": {
        "id": "vKl-aQJFHEvj"
      },
      "source": [
        "## Learning"
      ]
    },
    {
      "cell_type": "markdown",
      "metadata": {
        "id": "LTNl6cy0HIfN"
      },
      "source": [
        "### 4.1 Document code segments "
      ]
    },
    {
      "cell_type": "markdown",
      "metadata": {
        "id": "cIslyAruglUF"
      },
      "source": [
        "#### Indentation (Menjorok)\n",
        "Lekukan kode yang menjorok lebih jauh kesebelah kanan dengan menggunakan spasi atau tab.\n",
        "\n",
        "Fungsi: Untuk menunjukan suatu block code;\n",
        "\n",
        "Aturan: Jumlah spasi harus sama untuk 1 sub yang sama; bisa menggunakan spasi / tab"
      ]
    },
    {
      "cell_type": "code",
      "execution_count": null,
      "metadata": {
        "colab": {
          "base_uri": "https://localhost:8080/"
        },
        "id": "q6G_kPNPgHY6",
        "outputId": "8e850013-d5e6-4b08-aab3-3281ebfd054c"
      },
      "outputs": [
        {
          "output_type": "stream",
          "name": "stdout",
          "text": [
            "It's not My Number\n"
          ]
        }
      ],
      "source": [
        "x=2\n",
        "if x == 1 :\n",
        "  print('My Number')\n",
        "  print(f'Nilai {x}')\n",
        "else :\n",
        "  print(\"It's not My Number\")"
      ]
    },
    {
      "cell_type": "markdown",
      "metadata": {
        "id": "wnjvWT8SilT2"
      },
      "source": [
        "#### White Space\n",
        "Penggunaan White Space untuk Indentasi\n",
        "\n",
        "Fungsi : Untuk menunjukan suatu block code;\n",
        "\n",
        "Aturan : Jumlah spasi yang digunakan harus konsisten disetiap block code"
      ]
    },
    {
      "cell_type": "code",
      "execution_count": null,
      "metadata": {
        "colab": {
          "base_uri": "https://localhost:8080/"
        },
        "id": "hM0JLi9HkDP3",
        "outputId": "0d8ff1c5-43ac-48ed-f6f2-c14b1121771c"
      },
      "outputs": [
        {
          "output_type": "stream",
          "name": "stdout",
          "text": [
            "coba whitespace\n"
          ]
        }
      ],
      "source": [
        "# ga masalah kalo kita pake spasi berapapun\n",
        "def fungsi01() : \n",
        "  print('Ini Menggunakan Whitespace') \n",
        "\n",
        "#panggil fungsi\n",
        "fungsi01()"
      ]
    },
    {
      "cell_type": "markdown",
      "metadata": {
        "id": "qyeBiib2kc0Y"
      },
      "source": [
        "#### Comments\n",
        "Komentar (comment) adalah kode di dalam script Python yang tidak dieksekusi atau tidak dijalankan mesin. Komentar hanya digunakan untuk menandai atau memberikan keterangan tertulis pada script. Komentar biasa digunakan untuk membiarkan orang lain memahami apa yang dilakukan script."
      ]
    },
    {
      "cell_type": "code",
      "execution_count": null,
      "metadata": {
        "colab": {
          "base_uri": "https://localhost:8080/"
        },
        "id": "ZCJrj3wQkpvc",
        "outputId": "1b4a44e5-f06c-4eac-b922-2b517defb237"
      },
      "outputs": [
        {
          "output_type": "stream",
          "name": "stdout",
          "text": [
            "Kamu lulus ujian!\n"
          ]
        }
      ],
      "source": [
        "# if condition untuk mengecek yang lulus ujian\n",
        "x=81\n",
        "if x>80:\n",
        "  print('Kamu lulus ujian!') # sentence yang keluar apabila lulus ujian\n",
        "else:\n",
        "  print('Kamu harus mengulang!')\n",
        "\n",
        "# coba bikin komen\n",
        "# ini adalah komen"
      ]
    },
    {
      "cell_type": "markdown",
      "metadata": {
        "id": "8eNWLHQolDOT"
      },
      "source": [
        "#### Documentation Strings (DocString)\n",
        "Berfungsi sebagai dokumentasi atau keterangan singkat tentang fungsi yang kita buat.\n",
        "\n",
        "Penulisan : Mirip comments tapi pake ''' xxx '''' atau \"\"\"xxx\"\"\""
      ]
    },
    {
      "cell_type": "code",
      "execution_count": null,
      "metadata": {
        "id": "DxypAzJHG1bJ"
      },
      "outputs": [],
      "source": [
        "def fungsi02():\n",
        "  '''\n",
        "  Contoh DocString\n",
        "  Kita coba ya\n",
        "    ini        docstring\n",
        "    coba bikin yaa\n",
        "  '''\n",
        "  print(\"MyEduSolve\")\n",
        "  print(\"Kampus Merdeka\")"
      ]
    },
    {
      "cell_type": "code",
      "source": [
        "fungsi02()"
      ],
      "metadata": {
        "colab": {
          "base_uri": "https://localhost:8080/"
        },
        "id": "Ek-31vrdcusc",
        "outputId": "0cf9b366-ea3c-4006-fb11-39ad156fc065"
      },
      "execution_count": null,
      "outputs": [
        {
          "output_type": "stream",
          "name": "stdout",
          "text": [
            "MyEduSolve\n",
            "Kampus Merdeka\n"
          ]
        }
      ]
    },
    {
      "cell_type": "code",
      "source": [
        "print(fungsi02.__doc__) # __doc__ untuk mengakses docstring"
      ],
      "metadata": {
        "colab": {
          "base_uri": "https://localhost:8080/"
        },
        "id": "HKjOaO5Uc2qP",
        "outputId": "c1528bd4-1dee-4e59-b260-1761eed11aaf"
      },
      "execution_count": null,
      "outputs": [
        {
          "output_type": "stream",
          "name": "stdout",
          "text": [
            "\n",
            "  Contoh DocString\n",
            "  Kita coba ya\n",
            "    ini        docstring\n",
            "    coba bikin yaa\n",
            "  \n"
          ]
        }
      ]
    },
    {
      "cell_type": "code",
      "source": [
        "help(fungsi02) #cara lain memanggil docstring"
      ],
      "metadata": {
        "colab": {
          "base_uri": "https://localhost:8080/"
        },
        "id": "6qnw-J1DXdQr",
        "outputId": "3d48f1c6-a920-438c-aff2-73e8b27a58f9"
      },
      "execution_count": null,
      "outputs": [
        {
          "output_type": "stream",
          "name": "stdout",
          "text": [
            "Help on function fungsi02 in module __main__:\n",
            "\n",
            "fungsi02()\n",
            "    Contoh DocString\n",
            "    Kita coba ya\n",
            "      ini        docstring\n",
            "      coba bikin yaa\n",
            "\n"
          ]
        }
      ]
    },
    {
      "cell_type": "code",
      "execution_count": null,
      "metadata": {
        "colab": {
          "base_uri": "https://localhost:8080/"
        },
        "id": "dENjCDXjmHQQ",
        "outputId": "9e95b96a-efad-4a6a-fad3-de554e842a9b"
      },
      "outputs": [
        {
          "output_type": "stream",
          "name": "stdout",
          "text": [
            "\n",
            "  Contoh DocString\n",
            "    Kita coba ya\n",
            "  \n"
          ]
        }
      ],
      "source": [
        "# bisa kutip 1 atau kutip 2 asal 3x\n",
        "def fungsi02():\n",
        "  \"\"\"\n",
        "  Contoh DocString\n",
        "    Kita coba ya\n",
        "  \"\"\"\n",
        "  return\n",
        "\n",
        "print(fungsi02.__doc__) # __doc__ untuk mengakses docstring\n",
        "\n",
        "#help(fungsi02) #cara lain memanggil docstring"
      ]
    },
    {
      "cell_type": "markdown",
      "metadata": {
        "id": "YFIefvEoHLwg"
      },
      "source": [
        "### 4.2 Construct and analyze code segments that include function definitions"
      ]
    },
    {
      "cell_type": "markdown",
      "metadata": {
        "id": "FC6tIkqlmf6F"
      },
      "source": [
        "#### DEF / FUNGSI\n",
        "\n",
        "Function berfungsi untuk memudahkan & menghemat jumlah line code apabila kita memerlukan action yang berulang"
      ]
    },
    {
      "cell_type": "code",
      "execution_count": null,
      "metadata": {
        "id": "LbSZh34oHQcS"
      },
      "outputs": [],
      "source": [
        "def function03():\n",
        "  print('Hello Everyone!') #code action"
      ]
    },
    {
      "cell_type": "code",
      "execution_count": null,
      "metadata": {
        "colab": {
          "base_uri": "https://localhost:8080/"
        },
        "id": "6QZjZnw5nPu-",
        "outputId": "c9c65973-fae8-4bbf-e9ff-d47ae1c4d325"
      },
      "outputs": [
        {
          "output_type": "stream",
          "name": "stdout",
          "text": [
            "Hello Everyone!\n"
          ]
        }
      ],
      "source": [
        "function03() #manggil our function"
      ]
    },
    {
      "cell_type": "markdown",
      "source": [
        "### Parameter atau Argumen\n",
        "\n",
        "Parameter adalah sebutan untuk nilai inputan fungsi pada saat fungsi itu di definisikan, sedangkan argumen adalah sebutan untuk nilai inputan fungsi pada saat fungsi itu dipanggil."
      ],
      "metadata": {
        "id": "_6VXLTikN2g5"
      }
    },
    {
      "cell_type": "code",
      "source": [
        "# Function Tanpa Parameter\n",
        "def fungsi04() :\n",
        "  print(\"MyEduSolve Data Science Track\")\n",
        "\n",
        "fungsi04()"
      ],
      "metadata": {
        "colab": {
          "base_uri": "https://localhost:8080/"
        },
        "id": "3qVSoXt1GJBN",
        "outputId": "e4ef5606-403d-4450-abc9-1e4af1db352c"
      },
      "execution_count": null,
      "outputs": [
        {
          "output_type": "stream",
          "name": "stdout",
          "text": [
            "MyEduSolve Data Science Track\n"
          ]
        }
      ]
    },
    {
      "cell_type": "code",
      "execution_count": null,
      "metadata": {
        "id": "pyST6Zn8nuV_"
      },
      "outputs": [],
      "source": [
        "# Function Dengan 1 Parameter\n",
        "def function05(nama):\n",
        "  print(f'Namaku adalah {nama}')"
      ]
    },
    {
      "cell_type": "code",
      "execution_count": null,
      "metadata": {
        "colab": {
          "base_uri": "https://localhost:8080/"
        },
        "id": "VNOzMdtPn89W",
        "outputId": "729c1c14-0b65-4f0a-defb-d146ae4da03d"
      },
      "outputs": [
        {
          "output_type": "stream",
          "name": "stdout",
          "text": [
            "siapa nama kamu? sab\n",
            "Namaku adalah sab\n"
          ]
        }
      ],
      "source": [
        "myname = input('siapa nama kamu? ')\n",
        "function05(myname)"
      ]
    },
    {
      "cell_type": "code",
      "execution_count": null,
      "metadata": {
        "id": "nAq_1Mje4K0l"
      },
      "outputs": [],
      "source": [
        "# Function Dengan Lebih dari 1 Parameter\n",
        "def function06(name, myclass):\n",
        "  print(f'Nama saya {name}, saya kelas {myclass}')"
      ]
    },
    {
      "cell_type": "code",
      "execution_count": null,
      "metadata": {
        "colab": {
          "base_uri": "https://localhost:8080/"
        },
        "id": "JEQofntE4ex_",
        "outputId": "eef750c6-77c4-42e8-d20a-4a4a72fd7320"
      },
      "outputs": [
        {
          "output_type": "stream",
          "name": "stdout",
          "text": [
            "Nama saya ade, saya kelas A\n"
          ]
        }
      ],
      "source": [
        "function06(name='ade',myclass='A')"
      ]
    },
    {
      "cell_type": "code",
      "source": [
        "function06('ade','A')"
      ],
      "metadata": {
        "colab": {
          "base_uri": "https://localhost:8080/"
        },
        "id": "2DgW8QIQQFFt",
        "outputId": "13e83714-8677-488e-8b64-31dff8985efd"
      },
      "execution_count": null,
      "outputs": [
        {
          "output_type": "stream",
          "name": "stdout",
          "text": [
            "Nama saya ade, saya kelas A\n"
          ]
        }
      ]
    },
    {
      "cell_type": "markdown",
      "source": [
        "### Default Value\n",
        "\n",
        "Python memungkinkan argumen fungsi memiliki nilai default. Jika fungsi dipanggil tanpa argumen, argumen mendapatkan nilai defaultnya."
      ],
      "metadata": {
        "id": "lRM9ffiYN68p"
      }
    },
    {
      "cell_type": "code",
      "source": [
        "def tambah(a=3,b=5):\n",
        "  hasil = a + b\n",
        "  print(\"Hasilnya adalah \", hasil)\n",
        "  print(f'Hasilnya adalah {hasil}')"
      ],
      "metadata": {
        "id": "ffZzPQETOAJj"
      },
      "execution_count": null,
      "outputs": []
    },
    {
      "cell_type": "code",
      "source": [
        "tambah()"
      ],
      "metadata": {
        "colab": {
          "base_uri": "https://localhost:8080/"
        },
        "id": "TmPVNH8GOWWF",
        "outputId": "95f37a3e-aca0-444b-9e8f-c5369cd02ec8"
      },
      "execution_count": null,
      "outputs": [
        {
          "output_type": "stream",
          "name": "stdout",
          "text": [
            "Hasilnya adalah  8\n",
            "Hasilnya adalah 8\n"
          ]
        }
      ]
    },
    {
      "cell_type": "code",
      "source": [
        "tambah(1,2)"
      ],
      "metadata": {
        "colab": {
          "base_uri": "https://localhost:8080/"
        },
        "id": "zGcWrankOYfR",
        "outputId": "0a9dc887-3400-4017-f5af-8d373341aae5"
      },
      "execution_count": null,
      "outputs": [
        {
          "output_type": "stream",
          "name": "stdout",
          "text": [
            "Hasilnya adalah  3\n"
          ]
        }
      ]
    },
    {
      "cell_type": "markdown",
      "source": [
        "### Return\n",
        "Mengembalikan nilai dari sebuah function."
      ],
      "metadata": {
        "id": "QRSutLJ-eUZZ"
      }
    },
    {
      "cell_type": "code",
      "source": [
        "def function07(harga):\n",
        "  diskon =  harga*0.1\n",
        "  print(\"Besar diskon : \", diskon)"
      ],
      "metadata": {
        "id": "xrjcR9OtHnA4"
      },
      "execution_count": null,
      "outputs": []
    },
    {
      "cell_type": "code",
      "source": [
        "function07(1000)"
      ],
      "metadata": {
        "colab": {
          "base_uri": "https://localhost:8080/"
        },
        "id": "GWFXzuAJIFbc",
        "outputId": "2bc07fb9-494d-4b22-eb58-be897e8d8ac8"
      },
      "execution_count": null,
      "outputs": [
        {
          "output_type": "stream",
          "name": "stdout",
          "text": [
            "Besar diskon :  100.0\n"
          ]
        }
      ]
    },
    {
      "cell_type": "code",
      "source": [
        "d = function07(1000) * 3\n",
        "d"
      ],
      "metadata": {
        "colab": {
          "base_uri": "https://localhost:8080/",
          "height": 200
        },
        "id": "RMfI3Y_hIJke",
        "outputId": "e2d4f13f-5de0-46c6-d3c9-bf02034ca072"
      },
      "execution_count": null,
      "outputs": [
        {
          "output_type": "stream",
          "name": "stdout",
          "text": [
            "Besar diskon :  100.0\n"
          ]
        },
        {
          "output_type": "error",
          "ename": "TypeError",
          "evalue": "ignored",
          "traceback": [
            "\u001b[0;31m---------------------------------------------------------------------------\u001b[0m",
            "\u001b[0;31mTypeError\u001b[0m                                 Traceback (most recent call last)",
            "\u001b[0;32m<ipython-input-13-fccb35cb01f2>\u001b[0m in \u001b[0;36m<module>\u001b[0;34m()\u001b[0m\n\u001b[0;32m----> 1\u001b[0;31m \u001b[0md\u001b[0m \u001b[0;34m=\u001b[0m \u001b[0mfunction07\u001b[0m\u001b[0;34m(\u001b[0m\u001b[0;36m1000\u001b[0m\u001b[0;34m)\u001b[0m \u001b[0;34m*\u001b[0m \u001b[0;36m3\u001b[0m\u001b[0;34m\u001b[0m\u001b[0;34m\u001b[0m\u001b[0m\n\u001b[0m\u001b[1;32m      2\u001b[0m \u001b[0md\u001b[0m\u001b[0;34m\u001b[0m\u001b[0;34m\u001b[0m\u001b[0m\n",
            "\u001b[0;31mTypeError\u001b[0m: unsupported operand type(s) for *: 'NoneType' and 'int'"
          ]
        }
      ]
    },
    {
      "cell_type": "code",
      "execution_count": null,
      "metadata": {
        "id": "7fnUrby3oZZK"
      },
      "outputs": [],
      "source": [
        "def function08(harga):\n",
        "  return harga*0.1 # mengembalikan nilai untuk bisa digunakan di proses selanjutnya"
      ]
    },
    {
      "cell_type": "code",
      "source": [
        "def function09(harga):\n",
        "  diskon = harga*0.1\n",
        "  return diskon"
      ],
      "metadata": {
        "id": "uT4Csx9NWtbj"
      },
      "execution_count": null,
      "outputs": []
    },
    {
      "cell_type": "code",
      "source": [
        "function09(500)"
      ],
      "metadata": {
        "colab": {
          "base_uri": "https://localhost:8080/"
        },
        "id": "9n2zuxgKWfJl",
        "outputId": "93b12cff-b0f2-4ff5-8e44-6e10f31bac6e"
      },
      "execution_count": null,
      "outputs": [
        {
          "output_type": "execute_result",
          "data": {
            "text/plain": [
              "50.0"
            ]
          },
          "metadata": {},
          "execution_count": 16
        }
      ]
    },
    {
      "cell_type": "code",
      "execution_count": null,
      "metadata": {
        "id": "foJ9M1qkorTY"
      },
      "outputs": [],
      "source": [
        "untung = function09(500) * 3"
      ]
    },
    {
      "cell_type": "code",
      "execution_count": null,
      "metadata": {
        "colab": {
          "base_uri": "https://localhost:8080/"
        },
        "id": "8zhKxBLoowvF",
        "outputId": "b21db8ac-5cc0-46c3-c669-5aa49cf275df"
      },
      "outputs": [
        {
          "output_type": "execute_result",
          "data": {
            "text/plain": [
              "150.0"
            ]
          },
          "metadata": {},
          "execution_count": 85
        }
      ],
      "source": [
        "untung"
      ]
    },
    {
      "cell_type": "markdown",
      "source": [
        "### Pass\n",
        "Statemen yang tidak memiliki tugas apa pun. Tidak menginstruksi sistem untuk melakukan satu hal pun. Ia ada, tapi keberadaannya seolah tidak ada."
      ],
      "metadata": {
        "id": "azQC3d0gKkkm"
      }
    },
    {
      "cell_type": "code",
      "execution_count": null,
      "metadata": {
        "id": "VFS1pAny6TDq"
      },
      "outputs": [],
      "source": [
        "# function with if condition\n",
        "def cek_angka(angka):\n",
        "  if angka == 100 :\n",
        "    print('Perfect !')\n",
        "  elif angka < 100 :\n",
        "    print('Good Job !')\n",
        "  else :\n",
        "    pass"
      ]
    },
    {
      "cell_type": "code",
      "execution_count": null,
      "metadata": {
        "id": "W8MRapcE7YA7",
        "colab": {
          "base_uri": "https://localhost:8080/"
        },
        "outputId": "9a38bafe-f55d-4298-9837-1c1c528ad4ff"
      },
      "outputs": [
        {
          "output_type": "stream",
          "name": "stdout",
          "text": [
            "Good Job !\n"
          ]
        }
      ],
      "source": [
        "cek_angka(90)"
      ]
    },
    {
      "cell_type": "code",
      "source": [
        "cek_angka(110)"
      ],
      "metadata": {
        "id": "rbrhqxgnK1ey"
      },
      "execution_count": null,
      "outputs": []
    },
    {
      "cell_type": "markdown",
      "metadata": {
        "id": "rpMtJ-dUHGbl"
      },
      "source": [
        "## Practice"
      ]
    },
    {
      "cell_type": "markdown",
      "metadata": {
        "id": "kSO0LnbRAa95"
      },
      "source": [
        "1. Define a function that called myfunc that takes it name, and print 'Halo {Name}'. Don't need to run and use format() string"
      ]
    },
    {
      "cell_type": "code",
      "execution_count": null,
      "metadata": {
        "colab": {
          "base_uri": "https://localhost:8080/"
        },
        "id": "81Mkl8lqHHWZ",
        "outputId": "62610fba-2f52-4bf8-baf8-ce1bed11ff4a"
      },
      "outputs": [
        {
          "output_type": "stream",
          "name": "stdout",
          "text": [
            "Halo sabrina\n"
          ]
        }
      ],
      "source": [
        "def myfunc(name):\n",
        "  print('Halo {}'.format(name))\n",
        "\n",
        "myfunc('sabrina')"
      ]
    },
    {
      "cell_type": "markdown",
      "metadata": {
        "id": "nsIj_dRoBaRV"
      },
      "source": [
        "2. Write a function that returns the lesser of two given numbers if both numbers are even, but returns the greater if one or both numbers are odd\n",
        "\n",
        "lesser_of_two_evens(2,4) --> 2\n",
        "\n",
        "lesser_of_two_evens(2,5) --> 5"
      ]
    },
    {
      "cell_type": "code",
      "execution_count": null,
      "metadata": {
        "colab": {
          "base_uri": "https://localhost:8080/"
        },
        "id": "siF669QnBb8Q",
        "outputId": "d1bf69ec-325a-462d-afb4-31c1937106e9"
      },
      "outputs": [
        {
          "output_type": "execute_result",
          "data": {
            "text/plain": [
              "2"
            ]
          },
          "metadata": {},
          "execution_count": 38
        }
      ],
      "source": [
        "def lesser_of_two_evens(a,b):\n",
        "    if a%2 == 0 and b%2 == 0:\n",
        "        return min(a,b)\n",
        "    else:\n",
        "        return max(a,b)\n",
        "\n",
        "lesser_of_two_evens(2,4)"
      ]
    },
    {
      "cell_type": "code",
      "source": [
        "lesser_of_two_evens(2,5)"
      ],
      "metadata": {
        "colab": {
          "base_uri": "https://localhost:8080/"
        },
        "id": "mcT8xsUKYm80",
        "outputId": "275d55a7-7ddf-42c5-b88a-f603eb39f50c"
      },
      "execution_count": null,
      "outputs": [
        {
          "output_type": "execute_result",
          "data": {
            "text/plain": [
              "5"
            ]
          },
          "metadata": {},
          "execution_count": 39
        }
      ]
    },
    {
      "cell_type": "markdown",
      "metadata": {
        "id": "7QJR5-WUBcc5"
      },
      "source": [
        "3. Write a function animal_crackers that takes a two-word string and returns True if both words begin with same letter\n",
        "\n",
        "animal_crackers('Levelheaded Llama') --> True\n",
        "\n",
        "animal_crackers('Crazy Kangaroo') --> False"
      ]
    },
    {
      "cell_type": "code",
      "execution_count": null,
      "metadata": {
        "id": "pFcMvgBuBxDe"
      },
      "outputs": [],
      "source": [
        "def animal_crackers(text):\n",
        "    wordlist = text.split()\n",
        "    return wordlist[0][0] == wordlist[1][0]"
      ]
    },
    {
      "cell_type": "markdown",
      "metadata": {
        "id": "wO4we9cVB_Fi"
      },
      "source": [
        "4. Make a function name makes_twenty. Given two integers, return True if the sum of the integers is 20 or if one of the integers is 20. If not, return False\n",
        "\n",
        "makes_twenty(20,10) --> True\n",
        "\n",
        "makes_twenty(12,8) --> True\n",
        "\n",
        "makes_twenty(2,3) --> False"
      ]
    },
    {
      "cell_type": "code",
      "execution_count": null,
      "metadata": {
        "id": "BJKSn_Y0CIKF"
      },
      "outputs": [],
      "source": [
        "def makes_twenty(n1,n2):\n",
        "    return (n1+n2)==20 or n1==20 or n2==20"
      ]
    },
    {
      "cell_type": "code",
      "source": [
        "makes_twenty(20,10)"
      ],
      "metadata": {
        "colab": {
          "base_uri": "https://localhost:8080/"
        },
        "id": "LWM0AcMLYvSA",
        "outputId": "acaf39a2-2733-432f-c0f4-e6864c125e86"
      },
      "execution_count": null,
      "outputs": [
        {
          "output_type": "execute_result",
          "data": {
            "text/plain": [
              "True"
            ]
          },
          "metadata": {},
          "execution_count": 42
        }
      ]
    },
    {
      "cell_type": "code",
      "source": [
        "makes_twenty(12,8)"
      ],
      "metadata": {
        "colab": {
          "base_uri": "https://localhost:8080/"
        },
        "id": "bafirbadYxkQ",
        "outputId": "927398d3-3d2c-4ee4-fbe2-3b21223c8dee"
      },
      "execution_count": null,
      "outputs": [
        {
          "output_type": "execute_result",
          "data": {
            "text/plain": [
              "True"
            ]
          },
          "metadata": {},
          "execution_count": 43
        }
      ]
    },
    {
      "cell_type": "code",
      "source": [
        "makes_twenty(2,3)"
      ],
      "metadata": {
        "colab": {
          "base_uri": "https://localhost:8080/"
        },
        "id": "xjAijhKLYy7B",
        "outputId": "bb495791-6791-4b09-a395-80d6632dc0b2"
      },
      "execution_count": null,
      "outputs": [
        {
          "output_type": "execute_result",
          "data": {
            "text/plain": [
              "False"
            ]
          },
          "metadata": {},
          "execution_count": 44
        }
      ]
    },
    {
      "cell_type": "markdown",
      "metadata": {
        "id": "hzvF5I9cCNP1"
      },
      "source": [
        "5. OLD MACDONALD: Write a function that capitalizes the first and fourth letters of a name\n",
        "\n",
        "old_macdonald('macdonald') --> MacDonald\n",
        "\n",
        "Note: 'macdonald'.capitalize() returns 'Macdonald'"
      ]
    },
    {
      "cell_type": "code",
      "execution_count": null,
      "metadata": {
        "id": "hki5A-8ZCO_h"
      },
      "outputs": [],
      "source": [
        "def old_macdonald(name):\n",
        "    if len(name) > 3:\n",
        "      return name[:3].capitalize() + name[3:].capitalize()\n",
        "    else:\n",
        "      return 'Name is too short!'"
      ]
    },
    {
      "cell_type": "code",
      "source": [
        "old_macdonald('macdonald')"
      ],
      "metadata": {
        "colab": {
          "base_uri": "https://localhost:8080/",
          "height": 35
        },
        "id": "0M27Mk8sY-Nx",
        "outputId": "21491487-4944-4698-9a4f-711247e4cf78"
      },
      "execution_count": null,
      "outputs": [
        {
          "output_type": "execute_result",
          "data": {
            "text/plain": [
              "'MacDonald'"
            ],
            "application/vnd.google.colaboratory.intrinsic+json": {
              "type": "string"
            }
          },
          "metadata": {},
          "execution_count": 46
        }
      ]
    },
    {
      "cell_type": "markdown",
      "metadata": {
        "id": "ICcOiYEOCcEH"
      },
      "source": [
        "6. PAPER DOLL: Given a string, return a string where for every character in the original there are three characters\n",
        "paper_doll('Hello') --> 'HHHeeellllllooo'\n",
        "paper_doll('Mississippi') --> 'MMMiiissssssiiippppppiii'"
      ]
    },
    {
      "cell_type": "code",
      "execution_count": null,
      "metadata": {
        "id": "RVljkmbECesA"
      },
      "outputs": [],
      "source": [
        "def paper_doll(text):\n",
        "    result = ''\n",
        "    for char in text:\n",
        "        result += char*3\n",
        "    return result"
      ]
    },
    {
      "cell_type": "code",
      "execution_count": null,
      "metadata": {
        "id": "dPtlolQrDuP_",
        "colab": {
          "base_uri": "https://localhost:8080/",
          "height": 35
        },
        "outputId": "af2a2f36-1beb-4d96-b1c2-3c5cbb5a09a1"
      },
      "outputs": [
        {
          "output_type": "execute_result",
          "data": {
            "text/plain": [
              "'HHHeeellllllooo'"
            ],
            "application/vnd.google.colaboratory.intrinsic+json": {
              "type": "string"
            }
          },
          "metadata": {},
          "execution_count": 48
        }
      ],
      "source": [
        "paper_doll('Hello')"
      ]
    },
    {
      "cell_type": "code",
      "source": [
        "paper_doll('Mississippi')"
      ],
      "metadata": {
        "colab": {
          "base_uri": "https://localhost:8080/",
          "height": 35
        },
        "id": "_YTlacHBZEjx",
        "outputId": "07a726ce-21c2-4275-e35f-5ccd40c272de"
      },
      "execution_count": null,
      "outputs": [
        {
          "output_type": "execute_result",
          "data": {
            "text/plain": [
              "'MMMiiissssssiiissssssiiippppppiii'"
            ],
            "application/vnd.google.colaboratory.intrinsic+json": {
              "type": "string"
            }
          },
          "metadata": {},
          "execution_count": 49
        }
      ]
    }
  ],
  "metadata": {
    "colab": {
      "collapsed_sections": [],
      "name": "Python_Day4_17Mar.ipynb",
      "provenance": [],
      "include_colab_link": true
    },
    "kernelspec": {
      "display_name": "Python 3",
      "name": "python3"
    },
    "language_info": {
      "name": "python"
    }
  },
  "nbformat": 4,
  "nbformat_minor": 0
}